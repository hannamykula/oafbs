{
 "cells": [
  {
   "cell_type": "code",
   "execution_count": 1,
   "metadata": {},
   "outputs": [
    {
     "name": "stderr",
     "output_type": "stream",
     "text": [
      "c:\\ProgramData\\Anaconda3\\lib\\site-packages\\tslearn\\clustering\\kmeans.py:16: UserWarning: Scikit-learn <0.24 will be deprecated in a future release of tslearn\n",
      "  warnings.warn(\n"
     ]
    }
   ],
   "source": [
    "from src.process import read_and_split_data, subsample_features\n",
    "from src.model import train_candidates, cluster_predictions, compute_cluster_representatives, root_mean_square_error, plot_clustering, get_best_num_of_clusters, save_validation_predictions\n",
    "from src.drift import PageHinkley, DataDrift\n",
    "from src.predict import predict_n_steps_for_ensemble, predict_one_step_for_ensemble, get_weights, final_prediction_ensemble\n",
    "import os\n",
    "import pandas as pd\n",
    "from config import EXPERIMENT_NAME, VALIDATION_WINDOW_SIZE, WEIGHTS_WINDOW_SIZE, EVALUATION_WINDOW, TARGET_INDEX, SUBSET_SIZE, K, MODEL\n",
    "from sklearn.ensemble import RandomForestRegressor, GradientBoostingRegressor\n",
    "from sklearn.tree import DecisionTreeRegressor\n",
    "from statsmodels.tsa.api import VAR\n",
    "from sklearn.preprocessing import MinMaxScaler\n",
    "from tslearn.clustering import TimeSeriesKMeans, silhouette_score\n",
    "from tslearn.utils import to_time_series\n",
    "import numpy as np\n",
    "\n",
    "%load_ext autoreload\n",
    "%autoreload 2"
   ]
  },
  {
   "cell_type": "code",
   "execution_count": 2,
   "metadata": {},
   "outputs": [],
   "source": [
    "train, val, test = read_and_split_data(EXPERIMENT_NAME + '/NEW-DATA-1.T15-PREPROCESSED.csv', val_size=VALIDATION_WINDOW_SIZE)"
   ]
  },
  {
   "cell_type": "code",
   "execution_count": 4,
   "metadata": {},
   "outputs": [],
   "source": [
    "# Hyperparameters\n",
    "target_index = TARGET_INDEX"
   ]
  },
  {
   "cell_type": "code",
   "execution_count": 5,
   "metadata": {},
   "outputs": [],
   "source": [
    "y_train = train.iloc[:, target_index]\n",
    "X_train = train.drop(train.columns[target_index], axis=1)\n",
    "X_test = test.drop(test.columns[target_index], axis=1)\n",
    "X_test = X_test.iloc[WEIGHTS_WINDOW_SIZE:, :]\n",
    "y_test = test.iloc[WEIGHTS_WINDOW_SIZE:, target_index]\n",
    "\n",
    "X_scaler = MinMaxScaler()\n",
    "X_train = X_scaler.fit_transform(X_train)\n",
    "X_test = X_scaler.fit_transform(X_test)"
   ]
  },
  {
   "cell_type": "code",
   "execution_count": 9,
   "metadata": {},
   "outputs": [],
   "source": [
    "model_RF = RandomForestRegressor(max_depth=2, random_state=0)\n",
    "model_RF.fit(X_train, y_train)\n",
    "predictions_RF = model_RF.predict(X_test)"
   ]
  },
  {
   "cell_type": "code",
   "execution_count": 11,
   "metadata": {},
   "outputs": [
    {
     "data": {
      "text/plain": [
       "0.021006391451659192"
      ]
     },
     "execution_count": 11,
     "metadata": {},
     "output_type": "execute_result"
    }
   ],
   "source": [
    "root_mean_square_error(test.iloc[WEIGHTS_WINDOW_SIZE:, target_index].to_numpy(), predictions_RF)"
   ]
  },
  {
   "cell_type": "code",
   "execution_count": 10,
   "metadata": {},
   "outputs": [],
   "source": [
    "save_name = EXPERIMENT_NAME + '_Baseline_RF_results.csv'\n",
    "path = F'/content/drive/MyDrive/Colab Notebooks/oafbs_results/{save_name}'\n",
    "# path = os.path.join('results\\sml10-dataset', save_name)\n",
    "\n",
    "pd.DataFrame(predictions_RF).to_csv(path)"
   ]
  },
  {
   "cell_type": "code",
   "execution_count": 15,
   "metadata": {},
   "outputs": [],
   "source": [
    "model_GBM = GradientBoostingRegressor()\n",
    "model_GBM.fit(X_train, y_train)\n",
    "predictions_GBM = model_GBM.predict(X_test)"
   ]
  },
  {
   "cell_type": "code",
   "execution_count": 16,
   "metadata": {},
   "outputs": [
    {
     "data": {
      "text/plain": [
       "0.035405366917978236"
      ]
     },
     "execution_count": 16,
     "metadata": {},
     "output_type": "execute_result"
    }
   ],
   "source": [
    "root_mean_square_error(test.iloc[WEIGHTS_WINDOW_SIZE:, target_index].to_numpy(), predictions_GBM)"
   ]
  },
  {
   "cell_type": "code",
   "execution_count": 17,
   "metadata": {},
   "outputs": [],
   "source": [
    "save_name = EXPERIMENT_NAME + '_Baseline_GBM_results.csv'\n",
    "path = F'/content/drive/MyDrive/Colab Notebooks/oafbs_results/{save_name}'\n",
    "# path = os.path.join('results\\sml10-dataset', save_name)\n",
    "\n",
    "pd.DataFrame(predictions_GBM).to_csv(path)"
   ]
  },
  {
   "cell_type": "code",
   "execution_count": 6,
   "metadata": {},
   "outputs": [],
   "source": [
    "var_y_train = y_train.to_numpy()\n",
    "var_y_train = np.reshape(var_y_train, (-1, 1))\n",
    "var_train = np.concatenate((X_train, var_y_train), axis=1)\n",
    "var = VAR(var_train)\n",
    "model = var.fit(1)\n",
    "test_horizon = y_test.shape[0]\n",
    "prediction_VAR = model.forecast(y=var_train[-1:], steps=test_horizon)\n",
    "prediction_VAR = prediction_VAR[:, prediction_VAR.shape[1] - 1]"
   ]
  },
  {
   "cell_type": "code",
   "execution_count": 7,
   "metadata": {},
   "outputs": [
    {
     "data": {
      "text/plain": [
       "0.07986407836143426"
      ]
     },
     "execution_count": 7,
     "metadata": {},
     "output_type": "execute_result"
    }
   ],
   "source": [
    "root_mean_square_error(test.iloc[WEIGHTS_WINDOW_SIZE:, target_index].to_numpy(), prediction_VAR)"
   ]
  },
  {
   "cell_type": "code",
   "execution_count": 22,
   "metadata": {},
   "outputs": [],
   "source": [
    "save_name = EXPERIMENT_NAME + '_Baseline_VAR_results.csv'\n",
    "path = F'/content/drive/MyDrive/Colab Notebooks/oafbs_results/{save_name}'\n",
    "# path = os.path.join('results\\sml10-dataset', save_name)\n",
    "\n",
    "pd.DataFrame(prediction_VAR).to_csv(path)"
   ]
  },
  {
   "cell_type": "code",
   "execution_count": 8,
   "metadata": {},
   "outputs": [],
   "source": [
    "# ph = PageHinkley(delta=0.005, threshold=0.025)\n",
    "# hoeffding = DataDrift(threshold=0.97)"
   ]
  },
  {
   "cell_type": "code",
   "execution_count": 9,
   "metadata": {},
   "outputs": [],
   "source": [
    "# train_test = pd.concat([train, test], axis=0)"
   ]
  },
  {
   "cell_type": "code",
   "execution_count": 11,
   "metadata": {},
   "outputs": [],
   "source": [
    "# train_size = train.shape[0]"
   ]
  },
  {
   "cell_type": "code",
   "execution_count": null,
   "metadata": {},
   "outputs": [],
   "source": [
    "# # Drift-aware VAR\n",
    "# index = 0\n",
    "# test_predictions = []\n",
    "# evaluation_sliding_window_start = 0\n",
    "# version = 1\n",
    "# while index < (len(test)):\n",
    "#     pred_at_t = model.forecast(y=var_train[-1:], steps=1)\n",
    "#     pred_at_t = prediction_VAR[:, prediction_VAR.shape[1] - 1]\n",
    "#     test_predictions.append(pred_at_t)\n",
    "#     if(len(test_predictions) >= EVALUATION_WINDOW):\n",
    "#         X = test.iloc[evaluation_sliding_window_start:evaluation_sliding_window_start+EVALUATION_WINDOW, test.columns!=test.columns[target_index]]\n",
    "#         y = test.iloc[evaluation_sliding_window_start:evaluation_sliding_window_start+EVALUATION_WINDOW, target_index]\n",
    "#         y_predicted = test_predictions[evaluation_sliding_window_start:evaluation_sliding_window_start+EVALUATION_WINDOW]\n",
    "#         error = root_mean_square_error(y.to_numpy(), y_predicted)\n",
    "#         print(f'Error for window [{evaluation_sliding_window_start}:{evaluation_sliding_window_start+EVALUATION_WINDOW}] is {error}')\n",
    "#         ph.add_element(error)\n",
    "#         print(f'Difference: {ph.sum - ph.minimum}')\n",
    "\n",
    "#         glob_min = hoeffding.min\n",
    "#         hoeffding.add_element(X, y)\n",
    "#         print(f'Hoeffding global minimum: {glob_min}. Latest minimum: {hoeffding.min2}. Sample count: {hoeffding.sample_count}')\n",
    "#         if ph.detected_change():\n",
    "#             print('Change in error detected.')\n",
    "#         if hoeffding.detected_change():\n",
    "#             print('Change in data detected')\n",
    "#         if ph.detected_change() | hoeffding.detected_change():\n",
    "#             new_train = train_test.iloc[:train_size+index, ]\n",
    "            \n",
    "#             var_y_train = y_train.to_numpy()\n",
    "#             var_y_train = np.reshape(var_y_train, (-1, 1))\n",
    "#             var_train = np.concatenate((X_train, var_y_train), axis=1)\n",
    "#             var = VAR(var_train)\n",
    "#             model = var.fit(1)\n",
    "#         evaluation_sliding_window_start += 1\n",
    "#     index = index + 1"
   ]
  }
 ],
 "metadata": {
  "kernelspec": {
   "display_name": "base",
   "language": "python",
   "name": "python3"
  },
  "language_info": {
   "codemirror_mode": {
    "name": "ipython",
    "version": 3
   },
   "file_extension": ".py",
   "mimetype": "text/x-python",
   "name": "python",
   "nbconvert_exporter": "python",
   "pygments_lexer": "ipython3",
   "version": "3.8.3"
  },
  "orig_nbformat": 4,
  "vscode": {
   "interpreter": {
    "hash": "ad2bdc8ecc057115af97d19610ffacc2b4e99fae6737bb82f5d7fb13d2f2c186"
   }
  }
 },
 "nbformat": 4,
 "nbformat_minor": 2
}
